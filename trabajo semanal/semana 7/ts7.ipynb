{
 "cells": [
  {
   "cell_type": "markdown",
   "id": "c733d230",
   "metadata": {},
   "source": [
    "# Trabajo Semanal 7\n",
    "\n",
    "Alumno: Francisco Manoukian"
   ]
  },
  {
   "cell_type": "markdown",
   "id": "83ebd99e",
   "metadata": {},
   "source": [
    "## Ejercicio 1\n",
    "\n",
    "<img src=\"./consigna_ts7_1.png\" width=\"50%\" align=\"left\">"
   ]
  },
  {
   "cell_type": "markdown",
   "id": "9344a8bb",
   "metadata": {},
   "source": [
    "### Cálculo Manual\n",
    "\n",
    "<img src=\"ts7_1.png\" width=\"75%\" align=\"left\">"
   ]
  },
  {
   "cell_type": "markdown",
   "id": "c42d7f75",
   "metadata": {},
   "source": [
    "### Simulación de parámetros Z con LTSpice\n",
    "\n",
    "<img src=\"./spice_1_circ.png\" width=\"30%\" align=\"left\">"
   ]
  },
  {
   "cell_type": "markdown",
   "id": "399a5579",
   "metadata": {},
   "source": [
    "#### $Z_{11}, Z_{22}$\n",
    "<img width=\"80%\" src=\"./spice_1_z11.png\" align=\"left\">\n",
    "<img width=\"80%\" src=\"./spice_1_z22.png\" align=\"left\">"
   ]
  },
  {
   "cell_type": "markdown",
   "id": "5e33dc9c",
   "metadata": {},
   "source": [
    "#### $Z_{12}, Z_{21}$\n",
    "<img width=\"80%\" src=\"./spice_1_z12.png\" align=\"left\">\n",
    "<img width=\"80%\" src=\"./spice_1_z21.png\" align=\"left\">"
   ]
  },
  {
   "cell_type": "markdown",
   "id": "b8586734",
   "metadata": {},
   "source": [
    "#### Conclusiones\n",
    "\n",
    "Se puede observar que para un rango de frecuencias $1 Hz < f < 1MHz $ el circuito se comporta según los cálculos, exhibiendo los cuatro parámetros el mismo valor en módulo (300 $\\Omega$), los parámetros $Z_{11}$ y $Z_{22}$ fase = 0$^\\circ$ y los parámetros $Z_{12}$ y $Z_{21}$ fase = 180$^\\circ$"
   ]
  },
  {
   "cell_type": "markdown",
   "id": "4bf7f9c6",
   "metadata": {},
   "source": [
    "## Ejercicio 2\n",
    "\n",
    "<img src=\"./consigna_ts7_2.png\" width=\"50%\" align=\"left\">"
   ]
  },
  {
   "cell_type": "markdown",
   "id": "2ec061f9",
   "metadata": {},
   "source": [
    "### Cálculo de $V_o/V_i$ por cuadripolos (Utilizando matrices T)\n",
    "\n",
    "<img src=\"ts7_2_1.png\" width=\"75%\" align=\"left\">"
   ]
  },
  {
   "cell_type": "markdown",
   "id": "4cfb2b15",
   "metadata": {},
   "source": [
    "### Cálculo de $V_o/V_i$ por MAI\n",
    "\n",
    "<img src=\"./ts7_2_2.png\" width=\"70%\" align=\"left\">"
   ]
  },
  {
   "cell_type": "markdown",
   "id": "5d94fcd8",
   "metadata": {},
   "source": [
    "Se observa que ambos métodos de cálculo devuelven la misma transferencia, correspondiente al tipo pasabajos Butterworth de orden 3 y frecuencia de corte $w_c = 1 \\frac{rad}{s} = \\frac{1}{2\\pi} Hz$"
   ]
  },
  {
   "cell_type": "markdown",
   "id": "82e8a462",
   "metadata": {},
   "source": [
    "### Simulación de transferencia con LTSpice\n",
    "\n",
    "<figure class=\"half\" style=\"display:flex\">\n",
    "    <img style=\"width:25%;height:25%\" src=\"spice_2_circ.png\" align=\"left\">\n",
    "    <img style=\"width:75%\" src=\"spice_2_transf.png\">\n",
    "</figure>"
   ]
  },
  {
   "cell_type": "markdown",
   "id": "4dd9bdb9",
   "metadata": {},
   "source": [
    "### Cálculo de impedancia de entrada por MAI"
   ]
  },
  {
   "cell_type": "code",
   "execution_count": 9,
   "id": "4e7c826d",
   "metadata": {},
   "outputs": [
    {
     "data": {
      "text/latex": [
       "$\\displaystyle  [Y_{MAI}] = \\left[\\begin{matrix}\\frac{1}{L_{1} s} & - \\frac{1}{L_{1} s} & 0 & 0\\\\- \\frac{1}{L_{1} s} & C_{2} s + \\frac{L_{1} + L_{3}}{L_{1} L_{3} s} & - \\frac{1}{L_{3} s} & - C_{2} s\\\\0 & - \\frac{1}{L_{3} s} & G_{4} + \\frac{1}{L_{3} s} & - G_{4}\\\\0 & - C_{2} s & - G_{4} & C_{2} s + G_{4}\\end{matrix}\\right]$"
      ],
      "text/plain": [
       "<IPython.core.display.Math object>"
      ]
     },
     "metadata": {},
     "output_type": "display_data"
    },
    {
     "data": {
      "text/latex": [
       "$\\displaystyle  [Y^{ 00 }_{ 33 } ] = \\left[\\begin{matrix}C_{2} s + \\frac{L_{1} + L_{3}}{L_{1} L_{3} s} & - \\frac{1}{L_{3} s}\\\\- \\frac{1}{L_{3} s} & G_{4} + \\frac{1}{L_{3} s}\\end{matrix}\\right]$"
      ],
      "text/plain": [
       "<IPython.core.display.Math object>"
      ]
     },
     "metadata": {},
     "output_type": "display_data"
    },
    {
     "data": {
      "text/latex": [
       "$\\displaystyle [Y^{ 0 }_{ 0 }] = \\left[\\begin{matrix}C_{2} s + \\frac{L_{1} + L_{3}}{L_{1} L_{3} s} & - \\frac{1}{L_{3} s} & - C_{2} s\\\\- \\frac{1}{L_{3} s} & G_{4} + \\frac{1}{L_{3} s} & - G_{4}\\\\- C_{2} s & - G_{4} & C_{2} s + G_{4}\\end{matrix}\\right]$"
      ],
      "text/plain": [
       "<IPython.core.display.Math object>"
      ]
     },
     "metadata": {},
     "output_type": "display_data"
    },
    {
     "data": {
      "text/latex": [
       "$\\displaystyle Z_{ 03 } = \\frac{ \\underline{Y}^{ 00 }_{ 33 } }{ \\underline{Y}^{ 0 }_{ 0 } } = \\frac{C_{2} G_{4} L_{1} L_{3} s^{3} + C_{2} L_{1} s^{2} + G_{4} L_{1} s + G_{4} L_{3} s + 1}{C_{2} G_{4} L_{3} s^{2} + C_{2} s + G_{4}}$"
      ],
      "text/plain": [
       "<IPython.core.display.Math object>"
      ]
     },
     "metadata": {},
     "output_type": "display_data"
    },
    {
     "data": {
      "text/latex": [
       "$\\displaystyle \\frac{1.0 s^{3} + 2.0 s^{2} + 2.0 s + 1}{0.666666666666667 s^{2} + 1.33333333333333 s + 1}$"
      ],
      "text/plain": [
       "(1.0*s**3 + 2.0*s**2 + 2.0*s + 1)/(0.666666666666667*s**2 + 1.33333333333333*s + 1)"
      ]
     },
     "execution_count": 9,
     "metadata": {},
     "output_type": "execute_result"
    }
   ],
   "source": [
    "import sympy as sp\n",
    "from pytc2.cuadripolos import calc_MAI_impedance_ij\n",
    "\n",
    "s = sp.symbols('s', complex=True)\n",
    "L1,C2,L3,G4 = sp.symbols(\"L_1,C_2,L_3,G_4\",real=True,positive=True)\n",
    "\n",
    "\n",
    "Y=sp.Matrix([\n",
    "    [1/(s*L1),-1/(s*L1),0,0],\n",
    "    [-1/(s*L1),1/s*(L1+L3)/(L1*L3)+s*C2,-1/(s*L3),-s*C2],\n",
    "    [0,-1/(s*L3),1/(s*L3)+G4,-G4],\n",
    "    [0,-s*C2,-G4,s*C2+G4]\n",
    "    ])\n",
    "\n",
    "Zin = calc_MAI_impedance_ij(Y,ii=0,jj=3,verbose=True)\n",
    "Zin.subs([(L1,1.5),(C2,4/3),(L3,0.5),(G4,1)])"
   ]
  },
  {
   "cell_type": "markdown",
   "id": "8246064f",
   "metadata": {},
   "source": [
    "### Comparación de resultados con LTSpice"
   ]
  },
  {
   "cell_type": "code",
   "execution_count": 17,
   "id": "7e44883e",
   "metadata": {},
   "outputs": [
    {
     "data": {
      "text/plain": [
       "Text(0.5, 1.0, 'Impedancia de entrada')"
      ]
     },
     "execution_count": 17,
     "metadata": {},
     "output_type": "execute_result"
    },
    {
     "data": {
      "image/png": "[encoded data removed]",
      "text/plain": [
       "<Figure size 640x480 with 2 Axes>"
      ]
     },
     "metadata": {},
     "output_type": "display_data"
    }
   ],
   "source": [
    "import matplotlib.pyplot as plt\n",
    "import numpy as np\n",
    "import scipy.signal as sig\n",
    "\n",
    "num_z,den_z = sp.fraction(Zin.subs([(L1,1.5),(C2,4/3),(L3,0.5),(G4,1)]))\n",
    "num_z = list(np.array(sp.Poly(num_z).all_coeffs(),dtype=float))\n",
    "den_z = list(np.array(sp.Poly(den_z).all_coeffs(),dtype=float))\n",
    "\n",
    "w,z = sig.freqs(num_z,den_z,worN=np.logspace(-2,2,num=10**5))\n",
    "\n",
    "fig,ax1 = plt.subplots()\n",
    "ax2 = ax1.twinx()\n",
    "\n",
    "l1 = ax1.semilogx(w/(2*np.pi),np.abs(z),label='Módulo')\n",
    "l2 = ax2.semilogx(w/(2*np.pi),np.angle(z,deg=True),linestyle='dashed',label='Fase')\n",
    "ax1.set_ylabel('Impedancia [$\\Omega$]')\n",
    "ax2.set_ylabel('Ángulo [$^\\circ$]')\n",
    "ax1.set_xlabel('Frecuencia [Hz]')\n",
    "\n",
    "plt.xlim([w[0]/(2*np.pi),w[-1]/(2*np.pi)])\n",
    "\n",
    "l = [l.get_label() for l in l1+l2]\n",
    "ax1.legend(l1+l2,l,loc='upper left')\n",
    "ax1.grid()\n",
    "\n",
    "plt.title(\"Impedancia de entrada\")"
   ]
  },
  {
   "cell_type": "markdown",
   "id": "53668821",
   "metadata": {},
   "source": [
    "<img src=\"./spice_2_zin.png\" width=\"60%\" align=\"left\">"
   ]
  }
 ],
 "metadata": {
  "kernelspec": {
   "display_name": "Python 3 (ipykernel)",
   "language": "python",
   "name": "python3"
  },
  "language_info": {
   "codemirror_mode": {
    "name": "ipython",
    "version": 3
   },
   "file_extension": ".py",
   "mimetype": "text/x-python",
   "name": "python",
   "nbconvert_exporter": "python",
   "pygments_lexer": "ipython3",
   "version": "3.11.5"
  }
 },
 "nbformat": 4,
 "nbformat_minor": 5
}
