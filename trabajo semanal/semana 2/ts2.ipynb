{
 "cells": [
  {
   "cell_type": "markdown",
   "metadata": {},
   "source": [
    "Aclaración: Los OPAMP U2 y U3 tienen sus entradas invertidas. U2 está mal copiado por mi parte, pero los cálculos están hechos respecto a la orientación de la consigna. U3 intuyo que está invertido en la consigna ya que una simulación temporal rápida devuelve una salida divergente (lo cual tiene sentido ya que U3 sólo cuenta con realimentación positiva)"
   ]
  },
  {
   "cell_type": "code",
   "execution_count": 2,
   "metadata": {},
   "outputs": [
    {
     "data": {
      "text/html": [
       "\n",
       "        <iframe\n",
       "            width=\"1000\"\n",
       "            height=\"1000\"\n",
       "            src=\"./resolucion.pdf\"\n",
       "            frameborder=\"0\"\n",
       "            allowfullscreen\n",
       "            \n",
       "        ></iframe>\n",
       "        "
      ],
      "text/plain": [
       "<IPython.lib.display.IFrame at 0x11629fbd0>"
      ]
     },
     "execution_count": 2,
     "metadata": {},
     "output_type": "execute_result"
    }
   ],
   "source": [
    "from IPython.display import IFrame\n",
    "IFrame(\"./resolucion.pdf\", width=\"1000\", height=\"1000\")"
   ]
  },
  {
   "cell_type": "markdown",
   "metadata": {},
   "source": [
    "## Circuito simulado con valores normalizados\n",
    "\n",
    "Los parámetros O_z y O_o son las normas de impedancia y frecuencia respectivamente\n",
    "\n",
    "<img src=\"spice_circ.png\" width=\"100%\" height=\"100%\">\n",
    "\n",
    "## Simulación 1\n",
    "$\\omega_0 = 1$ y $Q=3$ (supongo implícitamente $k=1$)\n",
    "\n",
    "<img src=\"sim1_q3w1k1.png\" width=\"100%\" height=\"100%\">\n",
    "\n",
    "## Simulación 2\n",
    "Igual que la anterior, pero modificando $k$ tal que $|T(\\omega=0)|=20dB$\n",
    "\n",
    "En este ejemplo, en vez de modificar manualmente el valor de la resistencia aplico la modificación sobre el parámetro $k$, teniendo en cuenta: $|k|=G_1/G_3 \\Longrightarrow |k|=1/0.1=10$ \n",
    "\n",
    "<img src=\"sim2_q3w1k10.png\" width=\"100%\" height=\"100%\">\n",
    "\n"
   ]
  }
 ],
 "metadata": {
  "kernelspec": {
   "display_name": "Python 3 (ipykernel)",
   "language": "python",
   "name": "python3"
  },
  "language_info": {
   "codemirror_mode": {
    "name": "ipython",
    "version": 3
   },
   "file_extension": ".py",
   "mimetype": "text/x-python",
   "name": "python",
   "nbconvert_exporter": "python",
   "pygments_lexer": "ipython3",
   "version": "3.11.2"
  }
 },
 "nbformat": 4,
 "nbformat_minor": 2
}
