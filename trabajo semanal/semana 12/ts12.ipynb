{
 "cells": [
  {
   "cell_type": "markdown",
   "id": "d244122e",
   "metadata": {},
   "source": [
    "# Trabajo semanal 12\n",
    "\n",
    "Alumno: Francisco Manoukian"
   ]
  },
  {
   "cell_type": "markdown",
   "id": "8cb6e3d3",
   "metadata": {},
   "source": [
    "## Ejercicio 1"
   ]
  },
  {
   "cell_type": "markdown",
   "id": "51acc9ab",
   "metadata": {},
   "source": [
    "<img src=\"./ts12_consigna_1.png\" width=\"60%\" align=\"left\">"
   ]
  },
  {
   "cell_type": "markdown",
   "id": "0690a780",
   "metadata": {},
   "source": [
    "### Síntesis de circuito y valores de componentes"
   ]
  },
  {
   "cell_type": "markdown",
   "id": "c6a85c23",
   "metadata": {},
   "source": [
    "<img src=\"./ts12_1.png\" width=\"80%\" align=\"left\">"
   ]
  },
  {
   "cell_type": "markdown",
   "id": "bb539710",
   "metadata": {},
   "source": [
    "## Ejercicio 2"
   ]
  },
  {
   "cell_type": "markdown",
   "id": "7cf5fa04",
   "metadata": {},
   "source": [
    "<img src=\"./ts12_consigna_2.png\" width=\"60%\" align=\"left\">"
   ]
  },
  {
   "cell_type": "markdown",
   "id": "1b1b38e0",
   "metadata": {},
   "source": [
    "### Síntesis de circuito y valores de componentes"
   ]
  },
  {
   "cell_type": "markdown",
   "id": "fc2da528",
   "metadata": {},
   "source": [
    "<img src=\"./ts12_2.png\" width=\"50%\" align=\"left\">"
   ]
  },
  {
   "cell_type": "markdown",
   "id": "3e2e5ceb",
   "metadata": {},
   "source": [
    "### Verificación de la transferencia según el cuadripolo obtenido\n",
    "\n",
    "Se comprobará si la inversa del parámetro A es igual a la transferencia propuesta    ($\\frac{V_2}{V_1}\\rvert_{I_2=0}$)"
   ]
  },
  {
   "cell_type": "code",
   "execution_count": 8,
   "id": "cf09ddd4",
   "metadata": {},
   "outputs": [],
   "source": [
    "import sympy as sp\n",
    "from IPython.display import display,Math\n",
    "\n",
    "s = sp.symbols('s', complex=True)"
   ]
  },
  {
   "cell_type": "code",
   "execution_count": 10,
   "id": "bfbcf63d",
   "metadata": {},
   "outputs": [
    {
     "data": {
      "text/latex": [
       "$\\displaystyle T(s) = \\frac{3.5 s + 3.5}{s^{2} + 6.0 s + 8.0}$"
      ],
      "text/plain": [
       "<IPython.core.display.Math object>"
      ]
     },
     "metadata": {},
     "output_type": "display_data"
    }
   ],
   "source": [
    "T1 = sp.Matrix([[1,3/(2*s)],[0,1]])              # capacitor serie C=2/3\n",
    "T2 = sp.Matrix([[1,0],[1/(5/4 + 1/(s*4/5)),1]])  # tanque derivacion R=5/4,C=4/5\n",
    "T3 = sp.Matrix([[1,5],[0,1]])                    # resistor serie R=5\n",
    "T4 = sp.Matrix([[1,0],[s*2/35,1]])               # capacitor derivación C=2/35\n",
    "\n",
    "n,d = sp.fraction(sp.simplify(sp.expand(1/((T1*T2*T3*T4)[0,0]))))\n",
    "#divido den y num por coeficiente de mayor grado del denominador\n",
    "n /= 1750\n",
    "d /= 1750\n",
    "display(Math(r'T(s) = ' + sp.latex(n/d)))"
   ]
  },
  {
   "cell_type": "markdown",
   "id": "53d0fa4e",
   "metadata": {},
   "source": [
    "Se comprueba que el circuito cumple con la función transferencia planteada. El parámetro k será igual a 3.5"
   ]
  }
 ],
 "metadata": {
  "kernelspec": {
   "display_name": "Python 3 (ipykernel)",
   "language": "python",
   "name": "python3"
  },
  "language_info": {
   "codemirror_mode": {
    "name": "ipython",
    "version": 3
   },
   "file_extension": ".py",
   "mimetype": "text/x-python",
   "name": "python",
   "nbconvert_exporter": "python",
   "pygments_lexer": "ipython3",
   "version": "3.11.5"
  }
 },
 "nbformat": 4,
 "nbformat_minor": 5
}
