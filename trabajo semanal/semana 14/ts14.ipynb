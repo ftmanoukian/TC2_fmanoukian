{
 "cells": [
  {
   "cell_type": "markdown",
   "id": "6e7b7873",
   "metadata": {},
   "source": [
    "# Trabajo Semanal 14"
   ]
  },
  {
   "cell_type": "markdown",
   "id": "6149c55b",
   "metadata": {},
   "source": [
    "Alumno: Francisco Manoukian"
   ]
  },
  {
   "cell_type": "markdown",
   "id": "b02a9700",
   "metadata": {},
   "source": [
    "## 1, 2: Obtención de impedancia de entrada y síntesis de red normalizada"
   ]
  },
  {
   "cell_type": "markdown",
   "id": "0b371b73",
   "metadata": {},
   "source": [
    "<img src=\"./ts14.png\" width=\"75%\" align=\"left\">"
   ]
  },
  {
   "cell_type": "markdown",
   "id": "2c38748a",
   "metadata": {},
   "source": [
    "## 3: Simulación de los parámetros $S_{21}$ y $S_{11}$"
   ]
  },
  {
   "cell_type": "markdown",
   "id": "bf5884f4",
   "metadata": {},
   "source": [
    "<img src=\"./sim_circ.png\" width=\"30%\" align=\"left\">"
   ]
  },
  {
   "cell_type": "markdown",
   "id": "d15c42f0",
   "metadata": {},
   "source": [
    "<img src=\"./sim_s21.png\" width=\"80%\" align=\"left\">"
   ]
  },
  {
   "cell_type": "markdown",
   "id": "244bc7b9",
   "metadata": {},
   "source": [
    "<img src=\"./sim_s11.png\" width=\"80%\" align=\"left\">"
   ]
  },
  {
   "cell_type": "markdown",
   "id": "ac8e82ad",
   "metadata": {},
   "source": [
    "## 4: Comportamiento del cuadripolo A"
   ]
  },
  {
   "cell_type": "markdown",
   "id": "e5538b44",
   "metadata": {},
   "source": [
    "El parámetro $S_{11}$ corresponde al coeficiente de reflexión en el puerto 1.\n",
    "\n",
    "Para bajas frecuencias, el valor de $S_{11}$ tiende a cero ($-\\infty$ dB), lo cual implica que no hay onda reflejada en el puerto 1. Esto se traduce en que el puerto está adaptado en continua.\n",
    "\n",
    "Para frecuencias superiores a la frecuencia de corte (unitaria en este caso), el valor de $S_{11}$ es de 0dB, o 1 en veces. Esto implica que el coeficiente de reflexión es máximo para frecuencias altas, por lo que la onda es completamente reflejada y no se transmite.\n",
    "\n",
    "En frecuencias intermedias hay una transición entre los dos extremos ($S_{11} = 0$ y $S_{11} = 1$), lo cual implica que existe una banda en la que la onda transmitida se atenúa a medida que aumenta la frecuencia.\n",
    "\n",
    "En consecuencia el circuito se comporta como un filtro pasa-bajos según se esperaba."
   ]
  },
  {
   "cell_type": "markdown",
   "id": "8640c6b3",
   "metadata": {},
   "source": [
    "## 5: Modificación de la frecuencia de corte"
   ]
  },
  {
   "cell_type": "markdown",
   "id": "8e99485f",
   "metadata": {},
   "source": [
    "Para desnormalizar los valores de los componentes, se utilizan las normas $\\Omega_Z = 50\\Omega$ y $\\Omega_\\omega = 2\\pi 10^6 rad/s$\n",
    "\n",
    "·$R_1 = R_2 = 50\\Omega$\n",
    "\n",
    "·$L_1 = 1.255 · \\frac{50\\Omega}{2\\pi 10^6 rad/s} = 9.987 \\mu Hy$\n",
    "\n",
    "·$L_2 = 0.192 · \\frac{50\\Omega}{2\\pi 10^6 rad/s} = 1.528 \\mu Hy$\n",
    "\n",
    "·$C_1 = 0.553 · \\frac{1}{50\\Omega·2\\pi 10^6 rad/s} = 1.76 nF$"
   ]
  },
  {
   "cell_type": "markdown",
   "id": "691afdcd",
   "metadata": {},
   "source": [
    "<img src=\"./sim_s21_1mhz.png\" width=\"80%\" align=\"left\">"
   ]
  },
  {
   "cell_type": "markdown",
   "id": "36490478",
   "metadata": {},
   "source": [
    "<img src=\"./sim_s11_1mhz.png\" width=\"80%\" align=\"left\">"
   ]
  }
 ],
 "metadata": {
  "kernelspec": {
   "display_name": "Python 3 (ipykernel)",
   "language": "python",
   "name": "python3"
  },
  "language_info": {
   "codemirror_mode": {
    "name": "ipython",
    "version": 3
   },
   "file_extension": ".py",
   "mimetype": "text/x-python",
   "name": "python",
   "nbconvert_exporter": "python",
   "pygments_lexer": "ipython3",
   "version": "3.11.5"
  }
 },
 "nbformat": 4,
 "nbformat_minor": 5
}
