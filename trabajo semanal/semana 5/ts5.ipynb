{
 "cells": [
  {
   "cell_type": "markdown",
   "id": "88628afc",
   "metadata": {},
   "source": [
    "# Tarea Semanal 5\n",
    "\n",
    "Diseñar un filtro pasabanda que cumpla con la siguiente plantilla:\n",
    "\n",
    "<img src=\"./Plantilla PBF Transferencia.png\" width=\"70%\" height=\"70%\" align=\"left\"/>"
   ]
  },
  {
   "cell_type": "markdown",
   "id": "29f9d03c",
   "metadata": {},
   "source": [
    "* $\\omega_0 = 2\\pi·22kHz$ \n",
    "* $Q = 5$  \n",
    "* $\\alpha_\\text{máx} = 0.5dB$ (Chebyshev)\n",
    "<br/>\n",
    "\n",
    "* $f_{s1}=17kHz$\n",
    "* $f_{s2}=36kHz$\n",
    "* $\\left|T\\left(f_{s1}\\right)\\right|=-16dB \\quad \\Longrightarrow \\quad \\alpha_{\\text{mín}}\\left(f_{s1}\\right)=16dB$\n",
    "* $\\left|T\\left(f_{s2}\\right)\\right|=-24dB \\quad \\Longrightarrow \\quad \\alpha_{\\text{mín}}\\left(f_{s2}\\right)=24dB$"
   ]
  },
  {
   "cell_type": "code",
   "execution_count": 2,
   "id": "d7490f15",
   "metadata": {},
   "outputs": [],
   "source": [
    "import numpy as np\n",
    "import sympy as sp\n",
    "import scipy.signal as sig\n",
    "import matplotlib.pyplot as plt\n",
    "from matplotlib import patches\n",
    "from IPython.display import display,Math\n",
    "from pytc2.sistemas_lineales import pzmap, bodePlot"
   ]
  },
  {
   "cell_type": "markdown",
   "id": "132fab7e",
   "metadata": {},
   "source": [
    "## 1. Obtener la plantilla de diseño pasabanda normalizada"
   ]
  },
  {
   "cell_type": "markdown",
   "id": "d5bd78c3",
   "metadata": {},
   "source": [
    "### Obtención de frecuencias de corte inferior y superior\n",
    "\n",
    "$\\omega_0^2 = \\omega_1 \\omega_2 \\Rightarrow \\omega_1 \\omega_2 - \\omega_0^2 = 0$\n",
    "\n",
    "$Q = \\frac{\\omega_0}{\\omega_2-\\omega_1} \\Rightarrow \\omega_2 - \\omega_1 - \\frac{\\omega_0}{Q} = 0$"
   ]
  },
  {
   "cell_type": "code",
   "execution_count": 3,
   "id": "053ffbaf",
   "metadata": {},
   "outputs": [
    {
     "data": {
      "text/latex": [
       "$\\displaystyle \\text{Frecuencias de corte normalizadas}: \\newline\\omega_1=0.904987562112089\\newline \\omega_2=1.10498756211209$"
      ],
      "text/plain": [
       "<IPython.core.display.Math object>"
      ]
     },
     "metadata": {},
     "output_type": "display_data"
    }
   ],
   "source": [
    "w1,w2 = sp.symbols(\"omega_1,omega_2\")\n",
    "w0 = 1\n",
    "Q = 5\n",
    "\n",
    "eq1 = w1*w2-w0**2\n",
    "eq2 = w2-w1-w0/Q\n",
    "sol1 = sp.solve([eq1,eq2],[w1,w2])\n",
    "\n",
    "w1 = sol1[1][0]\n",
    "w2 = sol1[1][1]\n",
    "\n",
    "display(Math(r'\\text{Frecuencias de corte normalizadas}: \\newline\\omega_1=' + str(w1) + r'\\newline \\omega_2=' + str(w2)))"
   ]
  },
  {
   "cell_type": "markdown",
   "id": "a2a4cc24",
   "metadata": {},
   "source": [
    "## 2. Obtener la función transferencia normalizada del prototipo pasabajo que satisfaga el requerimiento del filtro pasabanda.\n"
   ]
  },
  {
   "cell_type": "markdown",
   "id": "356401a1",
   "metadata": {},
   "source": [
    "### Obtención de parámetros de la plantilla pasabajos\n",
    "\n",
    "Pasos según Schaumann:\n",
    "\n",
    "1. Hallar $\\varepsilon,n$\n",
    "2. Hallar $a$\n",
    "3. Hallar ubicación de los polos"
   ]
  },
  {
   "cell_type": "markdown",
   "id": "2aeca7c6",
   "metadata": {},
   "source": [
    "$\\varepsilon^2 = 10^{\\frac{\\alpha_\\text{máx}}{10}}-1$"
   ]
  },
  {
   "cell_type": "code",
   "execution_count": 4,
   "id": "eb0036b7",
   "metadata": {},
   "outputs": [
    {
     "data": {
      "text/latex": [
       "$\\displaystyle \\varepsilon^2=0.12201845430196334\\newline\\varepsilon=0.34931140018894796$"
      ],
      "text/plain": [
       "<IPython.core.display.Math object>"
      ]
     },
     "metadata": {},
     "output_type": "display_data"
    }
   ],
   "source": [
    "alpha_max = 0.5\n",
    "eps2 = 10**(alpha_max/10)-1\n",
    "eps = eps2**0.5\n",
    "\n",
    "display(Math(r'\\varepsilon^2=' + str(eps2) + r'\\newline\\varepsilon=' + str(eps)))"
   ]
  },
  {
   "cell_type": "markdown",
   "id": "71bccd39",
   "metadata": {},
   "source": [
    "Para transformar la plantilla pasabanda a pasabajos, se debe calcular la frecuencia de inicio de la banda de corte $\\Omega_S$, a partir de las $\\omega_S$ de la plantilla inicial.\n",
    "\n",
    "Como $\\omega_{S1}\\omega_{S2} \\neq \\omega_0$, será necesario calcular ambas frecuencias para obtener el orden que impone la atenuación requerida en cada extremo. Como el procedimiento contempla la transformación de una única plantilla pasabajos en una pasabanda, se aplicará el orden que resulte mayor."
   ]
  },
  {
   "cell_type": "markdown",
   "id": "3345434a",
   "metadata": {},
   "source": [
    "$\\Omega_S = Q\\frac{\\omega_s^2-1}{\\omega_s}$"
   ]
  },
  {
   "cell_type": "code",
   "execution_count": 5,
   "id": "01f9142d",
   "metadata": {},
   "outputs": [
    {
     "data": {
      "text/latex": [
       "$\\displaystyle \\Omega_{S1}=2.606951871657754\\newline\\Omega_{S2}=5.126262626262627$"
      ],
      "text/plain": [
       "<IPython.core.display.Math object>"
      ]
     },
     "metadata": {},
     "output_type": "display_data"
    }
   ],
   "source": [
    "ws = sp.symbols(\"omega_s\")\n",
    "WS = Q*(ws**2-1)/ws\n",
    "ws1 = 17/22\n",
    "ws2 = 36/22\n",
    "\n",
    "WS1 = np.double(WS.subs(ws,ws1)*-1) #Ignorar el signo de la frecuencia de corte inferior (P.360)\n",
    "WS2 = np.double(WS.subs(ws,ws2))\n",
    "\n",
    "display(Math(r'\\Omega_{S1}=' + str(WS1) + r'\\newline\\Omega_{S2}=' + str(WS2)))"
   ]
  },
  {
   "cell_type": "markdown",
   "id": "a9e14328",
   "metadata": {},
   "source": [
    "$\\alpha_{\\text{mín}} = 10\\log_{10}\\left\\{1+\\varepsilon^2\\cosh^2\\left[n\\cosh^{-1}\\left(\\omega_S\\right)\\right]\\right\\}$"
   ]
  },
  {
   "cell_type": "code",
   "execution_count": 6,
   "id": "6bed08bb",
   "metadata": {},
   "outputs": [
    {
     "data": {
      "text/latex": [
       "$\\displaystyle n = 1:\\quad\\alpha_\\text{mín1} = 2.6227581358748644\\text{dB},\\quad\\alpha_\\text{mín2} = 6.239178280680385\\text{dB}$"
      ],
      "text/plain": [
       "<IPython.core.display.Math object>"
      ]
     },
     "metadata": {},
     "output_type": "display_data"
    },
    {
     "data": {
      "text/latex": [
       "$\\displaystyle n = 2:\\quad\\alpha_\\text{mín1} = 13.085276188755442\\text{dB},\\quad\\alpha_\\text{mín2} = 25.12340047018897\\text{dB}$"
      ],
      "text/plain": [
       "<IPython.core.display.Math object>"
      ]
     },
     "metadata": {},
     "output_type": "display_data"
    },
    {
     "data": {
      "text/latex": [
       "$\\displaystyle n = 3:\\quad\\alpha_\\text{mín1} = 26.866707277839467\\text{dB},\\quad\\alpha_\\text{mín2} = 45.24213120648894\\text{dB}$"
      ],
      "text/plain": [
       "<IPython.core.display.Math object>"
      ]
     },
     "metadata": {},
     "output_type": "display_data"
    },
    {
     "data": {
      "text/latex": [
       "$\\displaystyle n = 4:\\quad\\alpha_\\text{mín1} = 40.86211456972326\\text{dB},\\quad\\alpha_\\text{mín2} = 65.3747740988921\\text{dB}$"
      ],
      "text/plain": [
       "<IPython.core.display.Math object>"
      ]
     },
     "metadata": {},
     "output_type": "display_data"
    },
    {
     "data": {
      "text/latex": [
       "$\\displaystyle n = 5:\\quad\\alpha_\\text{mín1} = 54.86627211646446\\text{dB},\\quad\\alpha_\\text{mín2} = 85.50755214615015\\text{dB}$"
      ],
      "text/plain": [
       "<IPython.core.display.Math object>"
      ]
     },
     "metadata": {},
     "output_type": "display_data"
    }
   ],
   "source": [
    "n = sp.symbols('n')\n",
    "alpha_min = 10*sp.log(1+eps2*sp.cosh(n*sp.acosh(ws))**2,10)\n",
    "\n",
    "alpha_min1 = [np.double(alpha_min.subs({n:N,ws:WS1})) for N in range(1,6)]\n",
    "alpha_min2 = [np.double(alpha_min.subs({n:N,ws:WS2})) for N in range(1,6)]\n",
    "\n",
    "for N in range(1,6):\n",
    "    display(Math(r'n = ' + str(N) \\\n",
    "                 + r':\\quad\\alpha_\\text{mín1} = ' + str(alpha_min1[N-1]) + r'\\text{dB},' \\\n",
    "                 + r'\\quad\\alpha_\\text{mín2} = ' + str(alpha_min2[N-1]) + r'\\text{dB}'))"
   ]
  },
  {
   "cell_type": "markdown",
   "id": "15b4a104",
   "metadata": {},
   "source": [
    "Como $\\alpha_\\text{mín1}=16dB$ y $\\alpha_\\text{mín2}=24dB$, el orden mínimo que cumple con ambos requerimientos es $n=3$"
   ]
  },
  {
   "cell_type": "markdown",
   "id": "a6e945cb",
   "metadata": {},
   "source": [
    "$a = \\frac{1}{n}\\sinh^{-1}\\left(\\frac{1}{\\varepsilon}\\right)$\n",
    "\n",
    "$\\sigma_k = -\\sinh\\left(a\\right)·\\sin\\left(\\frac{2k-1}{2n}\\pi\\right)$\n",
    "\n",
    "$\\omega_k = \\cosh\\left(a\\right)·\\cos\\left(\\frac{2k-1}{2n}\\pi\\right)$"
   ]
  },
  {
   "cell_type": "code",
   "execution_count": 7,
   "id": "7d4879c5",
   "metadata": {},
   "outputs": [
    {
     "data": {
      "text/latex": [
       "$\\displaystyle a = 0.5913783794312384$"
      ],
      "text/plain": [
       "<IPython.core.display.Math object>"
      ]
     },
     "metadata": {},
     "output_type": "display_data"
    },
    {
     "data": {
      "text/latex": [
       "$\\displaystyle \\text{Polo }1: (-0.3132282431701372+1.02192749104736j)$"
      ],
      "text/plain": [
       "<IPython.core.display.Math object>"
      ]
     },
     "metadata": {},
     "output_type": "display_data"
    },
    {
     "data": {
      "text/latex": [
       "$\\displaystyle \\text{Polo }2: (-0.6264564863402745+7.225539951847326e-17j)$"
      ],
      "text/plain": [
       "<IPython.core.display.Math object>"
      ]
     },
     "metadata": {},
     "output_type": "display_data"
    },
    {
     "data": {
      "text/latex": [
       "$\\displaystyle \\text{Polo }3: (-0.3132282431701375-1.0219274910473597j)$"
      ],
      "text/plain": [
       "<IPython.core.display.Math object>"
      ]
     },
     "metadata": {},
     "output_type": "display_data"
    },
    {
     "data": {
      "image/png": "[encoded data removed]",
      "text/plain": [
       "<Figure size 640x480 with 1 Axes>"
      ]
     },
     "metadata": {},
     "output_type": "display_data"
    }
   ],
   "source": [
    "k,n = sp.symbols(\"k,n\")\n",
    "\n",
    "N = 3\n",
    "a = 1/N * np.arcsinh(1/eps)\n",
    "\n",
    "sigma_k = -sp.sinh(a)*sp.sin((2*k-1)/(2*n)*np.pi)\n",
    "omega_k = sp.cosh(a)*sp.cos((2*k-1)/(2*n)*np.pi)\n",
    "polos = [complex((sigma_k + 1j*omega_k).subs({n:N,k:K})) for K in range(1,N+1)]\n",
    "\n",
    "lim = 1.5\n",
    "fig,ax = plt.subplots()\n",
    "plt.xlim([-lim,lim])\n",
    "plt.ylim([-lim,lim])\n",
    "plt.axvline(0,color='0.7')\n",
    "plt.axhline(0,color='0.7')\n",
    "ax.add_patch(patches.Ellipse((0,0),2*np.sinh(a),2*np.cosh(a),fill=False,alpha=0.1))\n",
    "\n",
    "display(Math(r'a = ' + str(a)))\n",
    "for n in range(N):\n",
    "    display(Math(r'\\text{Polo }' + str(n+1) + ': ' + str(polos[n])))\n",
    "    plt.plot(polos[n].real,polos[n].imag,'x')"
   ]
  },
  {
   "cell_type": "markdown",
   "id": "14f29c02",
   "metadata": {},
   "source": [
    "$\\omega_{0k} = \\sqrt{\\omega_k^2+\\sigma_k^2}$\n",
    "\n",
    "$q_k = \\frac{\\omega_{0k}}{2\\sigma_k}$"
   ]
  },
  {
   "cell_type": "code",
   "execution_count": 8,
   "id": "bb9a5ca5",
   "metadata": {},
   "outputs": [
    {
     "name": "stdout",
     "output_type": "stream",
     "text": [
      "1.0688534648293948\n",
      "1.7061894770594206\n"
     ]
    }
   ],
   "source": [
    "w0_cc = np.sqrt(np.real(polos[0])**2 + np.imag(polos[0])**2)\n",
    "q_cc = -w0_cc/(2*np.real(polos[0]))\n",
    "\n",
    "print(w0_cc)\n",
    "print(q_cc)"
   ]
  },
  {
   "cell_type": "markdown",
   "id": "69911abc",
   "metadata": {},
   "source": [
    "### Transferencia pasabajos\n",
    "\n",
    "$T(S) = \\frac{a}{S+a} \\frac{c}{S^2+S b+c}$\n",
    "\n",
    "$a = \\omega_0$ del polo simple\n",
    "\n",
    "$b = \\frac{\\omega_0}{q}$ de los polos complejos conjugados\n",
    "\n",
    "$c = \\omega_0^2$ de los polos complejos conjugados"
   ]
  },
  {
   "cell_type": "code",
   "execution_count": 9,
   "id": "eb64349a",
   "metadata": {},
   "outputs": [
    {
     "name": "stdout",
     "output_type": "stream",
     "text": [
      "0.6264564863402745\n",
      "0.6264564863402744\n",
      "1.1424477292778024\n"
     ]
    }
   ],
   "source": [
    "a = np.abs(np.real(polos[1]))\n",
    "b = w0_cc/q_cc\n",
    "c = w0_cc**2\n",
    "\n",
    "print(a)\n",
    "print(b)\n",
    "print(c)"
   ]
  },
  {
   "cell_type": "code",
   "execution_count": 10,
   "id": "37efb38a",
   "metadata": {},
   "outputs": [
    {
     "data": {
      "text/latex": [
       "$\\displaystyle \\text{Transferencia de polo simple}: T(S) = \\frac{0.626456486340275}{S + 0.626456486340275}$"
      ],
      "text/plain": [
       "<IPython.core.display.Math object>"
      ]
     },
     "metadata": {},
     "output_type": "display_data"
    },
    {
     "data": {
      "text/latex": [
       "$\\displaystyle \\text{Transferencia de polos complejos conjugados}: T(S) = \\frac{1.1424477292778}{S^{2} + 0.626456486340274 S + 1.1424477292778}$"
      ],
      "text/plain": [
       "<IPython.core.display.Math object>"
      ]
     },
     "metadata": {},
     "output_type": "display_data"
    },
    {
     "data": {
      "text/latex": [
       "$\\displaystyle \\text{Transferencia pasabajos normalizada}: T(S) = \\frac{0.715693790310797}{S^{3} + 1.25291297268055 S^{2} + 1.5348954585556 S + 0.715693790310797}$"
      ],
      "text/plain": [
       "<IPython.core.display.Math object>"
      ]
     },
     "metadata": {},
     "output_type": "display_data"
    }
   ],
   "source": [
    "S = sp.symbols(\"S\")\n",
    "T_lp_ps = a/(S+a)\n",
    "T_lp_pcc = c/(S**2 + S*b + c)\n",
    "T_lp = T_lp_ps*T_lp_pcc\n",
    "\n",
    "display(Math(r'\\text{Transferencia de polo simple}: T(S) = ' + sp.latex(T_lp_ps)))\n",
    "display(Math(r'\\text{Transferencia de polos complejos conjugados}: T(S) = ' + sp.latex(T_lp_pcc)))\n",
    "display(Math(r'\\text{Transferencia pasabajos normalizada}: T(S) = ' + sp.latex(sp.expand(T_lp))))"
   ]
  },
  {
   "cell_type": "markdown",
   "id": "fea21ec4",
   "metadata": {},
   "source": [
    "## 3. Obtener la transferencia pasabanda normalizada\n"
   ]
  },
  {
   "cell_type": "markdown",
   "id": "78beed97",
   "metadata": {},
   "source": [
    "### Transformación pasabajos - pasabanda\n",
    "\n",
    "Núcleo de transformación: $S = Q \\frac{s^2+1}{s}$\n",
    "\n",
    "$T_{BP}\\left(s\\right) = T_{LP}\\left(S\\right)\\rvert_{S = Q\\frac{s^2+1}{s}}$"
   ]
  },
  {
   "cell_type": "code",
   "execution_count": 11,
   "id": "1fac8418",
   "metadata": {},
   "outputs": [
    {
     "data": {
      "text/latex": [
       "$\\displaystyle \\text{Transferencia de polo simple}: \\newline T(S) = \\frac{0.626456486340275 s}{5 s^{2} + 0.626456486340275 s + 5}$"
      ],
      "text/plain": [
       "<IPython.core.display.Math object>"
      ]
     },
     "metadata": {},
     "output_type": "display_data"
    },
    {
     "data": {
      "text/latex": [
       "$\\displaystyle \\text{Transferencia de polos complejos conjugados}: \\newline T(S) = \\frac{1.1424477292778 s^{2}}{25.0 s^{4} + 3.13228243170137 s^{3} + 51.1424477292778 s^{2} + 3.13228243170137 s + 25.0}$"
      ],
      "text/plain": [
       "<IPython.core.display.Math object>"
      ]
     },
     "metadata": {},
     "output_type": "display_data"
    },
    {
     "data": {
      "text/latex": [
       "$\\displaystyle \\text{Transferencia pasabajos normalizada}: T(S) = \\newline\\frac{0.715693790310797 s^{3}}{125.0 s^{6} + 31.3228243170137 s^{5} + 382.674477292778 s^{4} + 63.3613424243382 s^{3} + 382.674477292778 s^{2} + 31.3228243170137 s + 125.0}$"
      ],
      "text/plain": [
       "<IPython.core.display.Math object>"
      ]
     },
     "metadata": {},
     "output_type": "display_data"
    }
   ],
   "source": [
    "s = sp.symbols(\"s\")\n",
    "LP_BP = Q*(s**2+1)/s\n",
    "\n",
    "T_bp_ps = sp.simplify(T_lp_ps.subs(S,LP_BP))\n",
    "T_bp_pcc = sp.simplify(T_lp_pcc.subs(S,LP_BP))\n",
    "T_bp = sp.simplify(T_lp.subs(S,LP_BP))\n",
    "\n",
    "display(Math(r'\\text{Transferencia de polo simple}: \\newline T(S) = ' + sp.latex(T_bp_ps)))\n",
    "display(Math(r'\\text{Transferencia de polos complejos conjugados}: \\newline T(S) = ' + sp.latex(T_bp_pcc)))\n",
    "display(Math(r'\\text{Transferencia pasabajos normalizada}: T(S) = \\newline' + sp.latex(sp.expand(T_bp))))"
   ]
  },
  {
   "cell_type": "code",
   "execution_count": 12,
   "id": "a0f12b81",
   "metadata": {},
   "outputs": [
    {
     "data": {
      "text/latex": [
       "$\\displaystyle \\text{Polo }0: (-0.03450873630955237+1.1069177804847652j)$"
      ],
      "text/plain": [
       "<IPython.core.display.Math object>"
      ]
     },
     "metadata": {},
     "output_type": "display_data"
    },
    {
     "data": {
      "text/latex": [
       "$\\displaystyle \\text{Polo }1: (-0.03450873630955237-1.1069177804847652j)$"
      ],
      "text/plain": [
       "<IPython.core.display.Math object>"
      ]
     },
     "metadata": {},
     "output_type": "display_data"
    },
    {
     "data": {
      "text/latex": [
       "$\\displaystyle \\text{Polo }2: (-0.06264564863402908+0.998035832376396j)$"
      ],
      "text/plain": [
       "<IPython.core.display.Math object>"
      ]
     },
     "metadata": {},
     "output_type": "display_data"
    },
    {
     "data": {
      "text/latex": [
       "$\\displaystyle \\text{Polo }3: (-0.06264564863402908-0.998035832376396j)$"
      ],
      "text/plain": [
       "<IPython.core.display.Math object>"
      ]
     },
     "metadata": {},
     "output_type": "display_data"
    },
    {
     "data": {
      "text/latex": [
       "$\\displaystyle \\text{Polo }4: (-0.028136912324473323+0.9025322822752937j)$"
      ],
      "text/plain": [
       "<IPython.core.display.Math object>"
      ]
     },
     "metadata": {},
     "output_type": "display_data"
    },
    {
     "data": {
      "text/latex": [
       "$\\displaystyle \\text{Polo }5: (-0.028136912324473323-0.9025322822752937j)$"
      ],
      "text/plain": [
       "<IPython.core.display.Math object>"
      ]
     },
     "metadata": {},
     "output_type": "display_data"
    }
   ],
   "source": [
    "num,den = sp.fraction(T_bp)\n",
    "num = np.array(sp.Poly(num).all_coeffs())\n",
    "den = np.array(sp.Poly(den).all_coeffs())\n",
    "Tf_bp = sig.TransferFunction(np.array(num,dtype=float),np.array(den,dtype=float))\n",
    "\n",
    "polos = np.roots(den)\n",
    "\n",
    "for n in range(0,len(polos)):\n",
    "    display(Math(r'\\text{Polo }' + str(n) + ': ' + str(polos[n])))"
   ]
  },
  {
   "cell_type": "code",
   "execution_count": 13,
   "id": "48ef50a1",
   "metadata": {},
   "outputs": [
    {
     "data": {
      "text/plain": [
       "(2,\n",
       " array([<Axes: title={'center': 'Magnitude response'}, ylabel='Magnitude [dB]'>,\n",
       "        <Axes: title={'center': 'Phase response'}, xlabel='Angular frequency [rad/sec]', ylabel='Phase [rad]'>],\n",
       "       dtype=object))"
      ]
     },
     "execution_count": 13,
     "metadata": {},
     "output_type": "execute_result"
    },
    {
     "data": {
      "image/png": "[encoded data removed]",
      "text/plain": [
       "<Figure size 640x480 with 1 Axes>"
      ]
     },
     "metadata": {},
     "output_type": "display_data"
    },
    {
     "data": {
      "image/png": "[encoded data removed]",
      "text/plain": [
       "<Figure size 640x480 with 2 Axes>"
      ]
     },
     "metadata": {},
     "output_type": "display_data"
    }
   ],
   "source": [
    "pzmap(Tf_bp)\n",
    "bodePlot(Tf_bp)"
   ]
  },
  {
   "cell_type": "markdown",
   "id": "5ba456cb",
   "metadata": {},
   "source": [
    "## 4. Implementar mediante secciones pasivas separadas por seguidores de tensión activos.\n"
   ]
  },
  {
   "cell_type": "code",
   "execution_count": 14,
   "id": "bd001e5d",
   "metadata": {},
   "outputs": [],
   "source": [
    "def get_w0k(polo:complex):\n",
    "    w0 = np.sqrt(np.real(polo)**2 + np.imag(polo)**2)\n",
    "    q = w0/(2*np.abs(np.real(polo)))\n",
    "    return w0,q"
   ]
  },
  {
   "cell_type": "code",
   "execution_count": 15,
   "id": "7325a9b1",
   "metadata": {},
   "outputs": [
    {
     "data": {
      "text/latex": [
       "$\\displaystyle \\omega_{00} = 1.1074555637293086;\\quad q_{0} = 16.046017359128182$"
      ],
      "text/plain": [
       "<IPython.core.display.Math object>"
      ]
     },
     "metadata": {},
     "output_type": "display_data"
    },
    {
     "data": {
      "text/latex": [
       "$\\displaystyle \\omega_{01} = 1.000000000000012;\\quad q_{1} = 7.981400319134158$"
      ],
      "text/plain": [
       "<IPython.core.display.Math object>"
      ]
     },
     "metadata": {},
     "output_type": "display_data"
    },
    {
     "data": {
      "text/latex": [
       "$\\displaystyle \\omega_{02} = 0.9029707671814218;\\quad q_{2} = 16.0460173591262$"
      ],
      "text/plain": [
       "<IPython.core.display.Math object>"
      ]
     },
     "metadata": {},
     "output_type": "display_data"
    }
   ],
   "source": [
    "for i in range(3):\n",
    "    w0,q = get_w0k(polos[i*2])\n",
    "    display(Math(r'\\omega_{0' + str(i) + r'} = ' + str(w0) + r';\\quad q_{' + str(i) + '} = ' + str(q)))"
   ]
  },
  {
   "cell_type": "markdown",
   "id": "92041bb6",
   "metadata": {},
   "source": [
    "Para la implementación, se requieren tres pares de polos complejos conjugados y tres ceros en el origen.\n",
    "\n",
    "Se utilizarán tres secciones RLC con LC serie y R en derivación, cuya transferencia es:\n",
    "\n",
    "$T\\left(s\\right) = \\large\\frac{s\\frac{R}{L}}{s^2 + s\\frac{R}{L} + \\frac{1}{LC}} \\normalsize = \\large \\frac{s\\frac{\\omega_0}{q}}{s^2 + s\\frac{\\omega_0}{q} + \\omega_0^2}$"
   ]
  },
  {
   "cell_type": "markdown",
   "id": "fbecf82e",
   "metadata": {},
   "source": [
    "Para las cuales una aproximación inicial de diseño fija:\n",
    "\n",
    "$\\left\\{C=1 \\quad L = \\frac{1}{\\omega_0^2}\\quad R = \\frac{q}{\\omega_0} \\right\\}$"
   ]
  },
  {
   "cell_type": "code",
   "execution_count": 19,
   "id": "726510c4",
   "metadata": {},
   "outputs": [
    {
     "data": {
      "text/latex": [
       "$\\displaystyle R_1 = 14.489084604978563\\qquad L_1 = 8.153562063842255e-01\\qquad C_1 = 1.e+00$"
      ],
      "text/plain": [
       "<IPython.core.display.Math object>"
      ]
     },
     "metadata": {},
     "output_type": "display_data"
    },
    {
     "data": {
      "text/latex": [
       "$\\displaystyle R_2 = 7.981400319134062\\qquad L_2 = 9.99999999999976e-01\\qquad C_2 = 1.e+00$"
      ],
      "text/plain": [
       "<IPython.core.display.Math object>"
      ]
     },
     "metadata": {},
     "output_type": "display_data"
    },
    {
     "data": {
      "text/latex": [
       "$\\displaystyle R_3 = 17.770251200061594\\qquad L_3 = 1.226457825635031e+00\\qquad C_3 = 1.e+00$"
      ],
      "text/plain": [
       "<IPython.core.display.Math object>"
      ]
     },
     "metadata": {},
     "output_type": "display_data"
    }
   ],
   "source": [
    "W_Z = 1e3\n",
    "W_w = 2*np.pi*22e3\n",
    "\n",
    "for i in range(3):\n",
    "    w0,q = get_w0k(polos[i*2])\n",
    "    R = q/w0\n",
    "    L = 1/(w0**2)\n",
    "    C = 1\n",
    "    display(Math(r'R_' + str(i+1) + ' = ' + str(R) + \\\n",
    "                 r'\\qquad L_' + str(i+1) + ' = ' + np.format_float_scientific(L) + \\\n",
    "                 r'\\qquad C_' + str(i+1) + ' = ' + np.format_float_scientific(C)))"
   ]
  },
  {
   "cell_type": "markdown",
   "id": "03169bdf",
   "metadata": {},
   "source": [
    "### Desnormalización\n",
    "\n",
    "$\\Omega_Z = 1k\\Omega \\quad \\Omega_\\omega = 2\\pi 22kHz$\n",
    "\n",
    "$R = R_n · \\Omega_Z \\quad C = C_n \\frac{1}{\\Omega_Z \\Omega_\\omega} \\quad L = L_n \\frac{\\Omega_Z}{\\Omega_\\omega} $"
   ]
  },
  {
   "cell_type": "code",
   "execution_count": 20,
   "id": "687d855b",
   "metadata": {},
   "outputs": [
    {
     "data": {
      "text/plain": [
       "(1,\n",
       " array([<Axes: title={'center': 'Magnitude response'}, ylabel='Magnitude [dB]'>,\n",
       "        <Axes: title={'center': 'Phase response'}, xlabel='Angular frequency [rad/sec]', ylabel='Phase [rad]'>],\n",
       "       dtype=object))"
      ]
     },
     "execution_count": 20,
     "metadata": {},
     "output_type": "execute_result"
    },
    {
     "data": {
      "image/png": "[encoded data removed]",
      "text/plain": [
       "<Figure size 640x480 with 2 Axes>"
      ]
     },
     "metadata": {},
     "output_type": "display_data"
    }
   ],
   "source": [
    "num = [1]\n",
    "den = [1]\n",
    "for i in range(3):\n",
    "    w0,q = get_w0k(polos[i*2])\n",
    "    R = q/w0\n",
    "    L = 1/(w0**2)\n",
    "    C = 1\n",
    "    num = np.polymul(num,[1/(R*C),0])\n",
    "    den = np.polymul(den,[1,1/(R*C),1/(R*L*C)])\n",
    "    \n",
    "bodePlot(sig.TransferFunction(num,den))"
   ]
  },
  {
   "cell_type": "markdown",
   "id": "26fa2abb",
   "metadata": {},
   "source": [
    "## 5. Activar las redes pasivas mediante la red propuesta aquí debajo y comprobar mediante simulación el comportamiento deseado."
   ]
  }
 ],
 "metadata": {
  "kernelspec": {
   "display_name": "Python 3 (ipykernel)",
   "language": "python",
   "name": "python3"
  },
  "language_info": {
   "codemirror_mode": {
    "name": "ipython",
    "version": 3
   },
   "file_extension": ".py",
   "mimetype": "text/x-python",
   "name": "python",
   "nbconvert_exporter": "python",
   "pygments_lexer": "ipython3",
   "version": "3.11.2"
  }
 },
 "nbformat": 4,
 "nbformat_minor": 5
}
